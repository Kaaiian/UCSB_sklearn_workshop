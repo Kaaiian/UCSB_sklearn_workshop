{
 "cells": [
  {
   "cell_type": "markdown",
   "metadata": {},
   "source": [
    "# Using scikit-learn for materials science and engineering\n",
    "\n",
    "content found at: https://github.com/kaaiian/UCSB_sklearn_workshop"
   ]
  },
  {
   "cell_type": "markdown",
   "metadata": {},
   "source": [
    "# Parse band gap data"
   ]
  },
  {
   "cell_type": "code",
   "execution_count": 1,
   "metadata": {},
   "outputs": [],
   "source": [
    "# read in data with pandas\n",
    "import pandas as pd\n",
    "# use numpy for vector and matrix operations\n",
    "import numpy as np\n",
    "# composition is a custom made python file that generates composition-based feature vectors (CBFV)\n",
    "import composition"
   ]
  },
  {
   "cell_type": "code",
   "execution_count": 5,
   "metadata": {},
   "outputs": [],
   "source": [
    "# read in band gap data from Zhou et al. publication:\n",
    "# J. Phys. Chem. Lett., 2018, 9 (7), pp 1668–1673\n",
    "#DOI: 10.1021/acs.jpclett.8b00124\n",
    "#Publication Date (Web): March 13, 2018\n",
    "df_band_gap = pd.read_excel('band_gap_data/jz8b00124_si_002.xlsx') \n",
    "\n",
    "# excel sheet is edited to fix formula \"GaAs0.1P0.9G1128\" to \"GaAs0.1P0.9\"\n",
    "df_band_gap.replace(\"GaAs0.1P0.9G1128\", \"GaAs0.1P0.9\", inplace=True)\n",
    "\n",
    "# take the average of duplicte composition entries\n",
    "df_band_gap = df_band_gap.groupby('composition').mean().reset_index()\n",
    "\n",
    "# separate the metal and non-metal compounds\n",
    "df_band_gap_non_metal = df_band_gap[df_band_gap['Eg (eV)'] > 0]\n",
    "df_band_gap_metal = df_band_gap[df_band_gap['Eg (eV)'] == 0]\n",
    "\n",
    "# randomly select train and test split\n",
    "df_train = df_band_gap_non_metal.sample(frac=0.8, random_state=256)\n",
    "df_test = df_band_gap_non_metal.iloc[~df_band_gap_non_metal.index.isin(df_train.index.values)]\n",
    "\n",
    "# rename columns for use with feature generation\n",
    "df_train.columns = ['formula', 'target']\n",
    "df_test.columns = ['formula', 'target']\n",
    "\n",
    "# randomly select train and test split for metals\n",
    "df_metal_train = df_band_gap_metal.sample(frac=0.8, random_state=256)\n",
    "df_metal_test = df_band_gap_metal.iloc[~df_band_gap_metal.index.isin(df_metal_train.index.values)]\n",
    "\n",
    "# rename columns for use with feature generation\n",
    "df_metal_train.columns = ['formula', 'target']\n",
    "df_metal_test.columns = ['formula', 'target']"
   ]
  },
  {
   "cell_type": "code",
   "execution_count": 6,
   "metadata": {},
   "outputs": [],
   "source": [
    "# generate features for both train and test split\n",
    "X_train, y_train, formula_train = composition.generate_features(df_train)\n",
    "X_test, y_test, formula_test = composition.generate_features(df_test)\n",
    "\n",
    "# generate features for both train and test split (metals)\n",
    "X_metal_train, y_metal_train, formula_metal_train = composition.generate_features(df_metal_train)\n",
    "X_metal_test, y_metal_test, formula_metal_test = composition.generate_features(df_metal_test)\n",
    "\n",
    "# put the data back together into their own dataframes\n",
    "df_train = pd.concat([formula_train, X_train, y_train], axis=1)\n",
    "df_test = pd.concat([formula_test, X_test, y_test], axis=1)\n",
    "\n",
    "# put the data back together into their own dataframes (metals)\n",
    "df_metal_train = pd.concat([formula_metal_train, X_metal_train, y_metal_train], axis=1)\n",
    "df_metal_test = pd.concat([formula_metal_test, X_metal_test, y_metal_test], axis=1)\n",
    "\n",
    "# save the featurized train and test data\n",
    "df_train.to_csv('band_gap_data/df_train.csv', index=False)\n",
    "df_test.to_csv('band_gap_data/df_test.csv', index=False)\n",
    "\n",
    "# save the featurized train and test data (metals)\n",
    "df_metal_train.to_csv('band_gap_data/df_metal_train.csv', index=False)\n",
    "df_metal_test.to_csv('band_gap_data/df_metal_test.csv', index=False)"
   ]
  },
  {
   "cell_type": "code",
   "execution_count": null,
   "metadata": {},
   "outputs": [],
   "source": []
  }
 ],
 "metadata": {
  "kernelspec": {
   "display_name": "Python 3",
   "language": "python",
   "name": "python3"
  },
  "language_info": {
   "codemirror_mode": {
    "name": "ipython",
    "version": 3
   },
   "file_extension": ".py",
   "mimetype": "text/x-python",
   "name": "python",
   "nbconvert_exporter": "python",
   "pygments_lexer": "ipython3",
   "version": "3.6.5"
  }
 },
 "nbformat": 4,
 "nbformat_minor": 2
}
