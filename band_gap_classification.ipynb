{
 "cells": [
  {
   "cell_type": "markdown",
   "metadata": {},
   "source": [
    "# Perform a classification task using Zhou et al. band gap data"
   ]
  },
  {
   "cell_type": "code",
   "execution_count": 1,
   "metadata": {},
   "outputs": [
    {
     "name": "stderr",
     "output_type": "stream",
     "text": [
      "C:\\ProgramData\\Anaconda3\\lib\\site-packages\\sklearn\\ensemble\\weight_boosting.py:29: DeprecationWarning: numpy.core.umath_tests is an internal NumPy module and should not be imported. It will be removed in a future NumPy release.\n",
      "  from numpy.core.umath_tests import inner1d\n"
     ]
    }
   ],
   "source": [
    "# read in data with pandas\n",
    "import pandas as pd\n",
    "# use numpy for vector and matrix operations\n",
    "import numpy as np\n",
    "\n",
    "# composition is a custom made python file that generates composition-based feature vectors (CBFV)\n",
    "import composition\n",
    "# utils is a custom made python file that has some useful functions\n",
    "import utils\n",
    "\n",
    "# make nice figures\n",
    "import matplotlib.pyplot as plt\n",
    "# machine learnign algorithms\n",
    "from sklearn.linear_model import LinearRegression, Ridge, LogisticRegression\n",
    "from sklearn.ensemble import RandomForestRegressor, RandomForestClassifier\n",
    "from sklearn.svm import SVR, SVC\n",
    "# preprocessing for the features\n",
    "from sklearn.preprocessing import StandardScaler, Normalizer\n",
    "# feature reduction\n",
    "from sklearn.decomposition import PCA\n",
    "# import model selection tools\n",
    "from sklearn.model_selection import cross_validate, cross_val_score,\\\n",
    "                                    cross_val_predict, learning_curve, \\\n",
    "                                    GridSearchCV, KFold, train_test_split\n",
    "# grab metrics to evaluate our models\n",
    "from sklearn.metrics import confusion_matrix, classification_report,\\\n",
    "                            r2_score, mean_squared_error, auc, roc_curve"
   ]
  },
  {
   "cell_type": "code",
   "execution_count": 2,
   "metadata": {},
   "outputs": [],
   "source": [
    "# read in band gap data from Zhou et al. publication:\n",
    "# J. Phys. Chem. Lett., 2018, 9 (7), pp 1668–1673\n",
    "#DOI: 10.1021/acs.jpclett.8b00124\n",
    "#Publication Date (Web): March 13, 2018\n",
    "df_band_gap = pd.read_excel('jz8b00124_si_002.xlsx')\n",
    "\n",
    "# excel sheet is edited to fix formula \"GaAs0.1P0.9G1128\" to \"GaAs0.1P0.9\"\n",
    "df_band_gap.replace(\"GaAs0.1P0.9G1128\", \"GaAs0.1P0.9\", inplace=True)\n",
    "\n",
    "# set the columns names to 'formula' and 'target'\n",
    "df_band_gap.columns = ['formula', 'target']\n",
    "\n",
    "# fix the formula with bad formatting \"AxBy, 102\"\n",
    "df_band_gap['formula'] = [formula.split(',')[0] for formula in df_band_gap['formula']]\n"
   ]
  },
  {
   "cell_type": "code",
   "execution_count": 3,
   "metadata": {},
   "outputs": [],
   "source": [
    "## take the average of duplicate composition entries\n",
    "df_band_gap = df_band_gap.groupby('formula').mean().reset_index()"
   ]
  },
  {
   "cell_type": "markdown",
   "metadata": {},
   "source": [
    "### Because we are doing a regression, we want to change the target.\n",
    "We are interesting in two classes \"metal\" or \"non-metal\". To distinguish these, we will assign a numerical label for metal (0) and non-metal (1) representing whether there is a band gap value"
   ]
  },
  {
   "cell_type": "code",
   "execution_count": 4,
   "metadata": {},
   "outputs": [],
   "source": [
    "## we now need to change the target we are tying to learn.\n",
    "df_band_gap['target'] = [0 if bandgap == 0 else 1 for bandgap in df_band_gap['target']]"
   ]
  },
  {
   "cell_type": "code",
   "execution_count": 5,
   "metadata": {},
   "outputs": [
    {
     "name": "stdout",
     "output_type": "stream",
     "text": [
      "The element: Eu from formula Ag0.5Eu1.75GeS4 is not currently supported in our database\n",
      "The element: Eu from formula Ba3EuP3O12 is not currently supported in our database\n",
      "The element: Eu from formula Eu1.83Ta15O32 is not currently supported in our database\n",
      "The element: Eu from formula Eu2BaMn2O7 is not currently supported in our database\n",
      "The element: Eu from formula Eu2C(NO)2 is not currently supported in our database\n",
      "The element: Eu from formula Eu2CaO3 is not currently supported in our database\n",
      "The element: Eu from formula Eu2CuO4 is not currently supported in our database\n",
      "The element: Eu from formula Eu2Ga2GeS7 is not currently supported in our database\n",
      "The element: Eu from formula Eu2Ga9Rh3 is not currently supported in our database\n",
      "The element: Eu from formula Eu2Ge(BO4)2 is not currently supported in our database\n",
      "The element: Eu from formula Eu2O3 is not currently supported in our database\n",
      "The element: Eu from formula Eu2PBr is not currently supported in our database\n",
      "The element: Eu from formula Eu2ReO5 is not currently supported in our database\n",
      "The element: Eu from formula Eu2Se3 is not currently supported in our database\n",
      "The element: Eu from formula Eu2SnSe5 is not currently supported in our database\n",
      "The element: Eu from formula Eu2TeO2 is not currently supported in our database\n",
      "The element: Eu from formula Eu3As2 is not currently supported in our database\n",
      "The element: Eu from formula Eu3BWO9 is not currently supported in our database\n",
      "The element: Eu from formula Eu3Bi4S9 is not currently supported in our database\n",
      "The element: Eu from formula Eu3In2P4 is not currently supported in our database\n",
      "The element: Eu from formula Eu3P2 is not currently supported in our database\n",
      "The element: Eu from formula Eu3S4 is not currently supported in our database\n",
      "The element: Eu from formula Eu3Sb4S9 is not currently supported in our database\n",
      "The element: Eu from formula Eu3Sb4Se9 is not currently supported in our database\n",
      "The element: Eu from formula Eu3Se4 is not currently supported in our database\n",
      "The element: Eu from formula Eu3Sn is not currently supported in our database\n",
      "The element: Eu from formula Eu4Te7 is not currently supported in our database\n",
      "The element: Eu from formula Eu7Ga6Sb8 is not currently supported in our database\n",
      "The element: Eu from formula EuAgSb is not currently supported in our database\n",
      "The element: Eu from formula EuAl2Au2 is not currently supported in our database\n",
      "The element: Eu from formula EuAl2O4 is not currently supported in our database\n",
      "The element: Eu from formula EuAlO3 is not currently supported in our database\n",
      "The element: Eu from formula EuAs2Pd2 is not currently supported in our database\n",
      "The element: Eu from formula EuBi2Se4 is not currently supported in our database\n",
      "The element: Eu from formula EuBi2Te4 is not currently supported in our database\n",
      "The element: Eu from formula EuBi3 is not currently supported in our database\n",
      "The element: Eu from formula EuBiW2O9 is not currently supported in our database\n",
      "The element: Eu from formula EuCaO2 is not currently supported in our database\n",
      "The element: Eu from formula EuCd11 is not currently supported in our database\n",
      "The element: Eu from formula EuCd2Sb2 is not currently supported in our database\n",
      "The element: Eu from formula EuCl3O12 is not currently supported in our database\n",
      "The element: Eu from formula EuClO is not currently supported in our database\n",
      "The element: Eu from formula EuCo8P5 is not currently supported in our database\n",
      "The element: Eu from formula EuCsF3 is not currently supported in our database\n",
      "The element: Eu from formula EuCu2SnS4 is not currently supported in our database\n",
      "The element: Eu from formula EuCu9Sn4 is not currently supported in our database\n",
      "The element: Eu from formula EuCuSeF is not currently supported in our database\n",
      "The element: Eu from formula EuCuSeO is not currently supported in our database\n",
      "The element: Eu from formula EuDy2Se4 is not currently supported in our database\n",
      "The element: Eu from formula EuEr2Se4 is not currently supported in our database\n",
      "The element: Eu from formula EuF3 is not currently supported in our database\n",
      "The element: Eu from formula EuFe2Si2 is not currently supported in our database\n",
      "The element: Eu from formula EuGa2S4 is not currently supported in our database\n",
      "The element: Eu from formula EuGa2Se4 is not currently supported in our database\n",
      "The element: Eu from formula EuGa2Te4 is not currently supported in our database\n",
      "The element: Eu from formula EuGe3Pt is not currently supported in our database\n",
      "The element: Eu from formula EuH2 is not currently supported in our database\n",
      "The element: Eu from formula EuHo2Se4 is not currently supported in our database\n",
      "The element: Eu from formula EuIn2As2 is not currently supported in our database\n",
      "The element: Eu from formula EuIn2S4 is not currently supported in our database\n",
      "The element: Eu from formula EuIn2Se4 is not currently supported in our database\n",
      "The element: Eu from formula EuIn2Te4 is not currently supported in our database\n",
      "The element: Eu from formula EuIr4In2Ge4 is not currently supported in our database\n",
      "The element: Eu from formula EuKS2 is not currently supported in our database\n",
      "The element: Eu from formula EuLi2Sn is not currently supported in our database\n",
      "The element: Eu from formula EuLiH3 is not currently supported in our database\n",
      "The element: Eu from formula EuLu2Se4 is not currently supported in our database\n",
      "The element: Eu from formula EuMg2Bi2 is not currently supported in our database\n",
      "The element: Eu from formula EuMn2Ge2 is not currently supported in our database\n",
      "The element: Eu from formula EuN is not currently supported in our database\n",
      "The element: Eu from formula EuNaO2 is not currently supported in our database\n",
      "The element: Eu from formula EuNi12B6 is not currently supported in our database\n",
      "The element: Eu from formula EuNi2As2 is not currently supported in our database\n",
      "The element: Eu from formula EuNiGe3 is not currently supported in our database\n",
      "The element: Eu from formula EuO is not currently supported in our database\n",
      "The element: Eu from formula EuP2Os2 is not currently supported in our database\n",
      "The element: Eu from formula EuPPt is not currently supported in our database\n",
      "The element: Eu from formula EuPd is not currently supported in our database\n",
      "The element: Eu from formula EuRbO2 is not currently supported in our database\n",
      "The element: Eu from formula EuRhO3 is not currently supported in our database\n",
      "The element: Eu from formula EuS is not currently supported in our database\n",
      "The element: Eu from formula EuSb2BO8 is not currently supported in our database\n",
      "The element: Eu from formula EuSb2S4 is not currently supported in our database\n",
      "The element: Eu from formula EuSb2Se4 is not currently supported in our database\n",
      "The element: Eu from formula EuSb4S7 is not currently supported in our database\n",
      "The element: Eu from formula EuSb4Te7 is not currently supported in our database\n",
      "The element: Eu from formula EuSbO3 is not currently supported in our database\n",
      "The element: Eu from formula EuScO3 is not currently supported in our database\n",
      "The element: Eu from formula EuSe is not currently supported in our database\n",
      "The element: Eu from formula EuSeClO3 is not currently supported in our database\n",
      "The element: Eu from formula EuSn3 is not currently supported in our database\n",
      "The element: Eu from formula EuSnAu2 is not currently supported in our database\n",
      "The element: Eu from formula EuSnO3 is not currently supported in our database\n",
      "The element: Eu from formula EuSnTe2 is not currently supported in our database\n",
      "The element: Eu from formula EuTb2Se4 is not currently supported in our database\n",
      "The element: Eu from formula EuTe is not currently supported in our database\n",
      "The element: Eu from formula EuTiClO3 is not currently supported in our database\n",
      "The element: Eu from formula EuTiO3 is not currently supported in our database\n",
      "The element: Eu from formula EuTl is not currently supported in our database\n",
      "The element: Eu from formula EuTm2Se4 is not currently supported in our database\n",
      "The element: Eu from formula EuVO4 is not currently supported in our database\n",
      "The element: Eu from formula EuYb2S4 is not currently supported in our database\n",
      "The element: Eu from formula EuYb2Se4 is not currently supported in our database\n",
      "The element: Eu from formula EuZn is not currently supported in our database\n",
      "The element: Eu from formula EuZn2Ge2 is not currently supported in our database\n",
      "The element: Eu from formula EuZn2Si2 is not currently supported in our database\n"
     ]
    },
    {
     "name": "stdout",
     "output_type": "stream",
     "text": [
      "The element: Eu from formula KEuAsS4 is not currently supported in our database\n",
      "The element: Eu from formula Na0.75Eu1.625GeSe4 is not currently supported in our database\n",
      "The element: Eu from formula Na2EuGeSe4 is not currently supported in our database\n",
      "The element: Eu from formula Na8Eu2Ge4S12 is not currently supported in our database\n",
      "The element: Pm from formula Pm2CuGe is not currently supported in our database\n",
      "The element: Pm from formula Pm2IrRh is not currently supported in our database\n",
      "The element: Pm from formula Pm2LiAl is not currently supported in our database\n",
      "The element: Pm from formula Pm2LiGa is not currently supported in our database\n",
      "The element: Pm from formula Pm2LiIr is not currently supported in our database\n",
      "The element: Pm from formula Pm2LiSi is not currently supported in our database\n",
      "The element: Pm from formula Pm2NiRh is not currently supported in our database\n",
      "The element: Pm from formula Pm2PtAu is not currently supported in our database\n",
      "The element: Pm from formula Pm3I is not currently supported in our database\n",
      "The element: Pm from formula PmCd3 is not currently supported in our database\n",
      "The element: Pm from formula PmCdPd2 is not currently supported in our database\n",
      "The element: Pm from formula PmDy3 is not currently supported in our database\n",
      "The element: Pm from formula PmGaAu2 is not currently supported in our database\n",
      "The element: Pm from formula PmHgAu2 is not currently supported in our database\n",
      "The element: Pm from formula PmLi2Al is not currently supported in our database\n",
      "The element: Pm from formula PmLi2Ge is not currently supported in our database\n",
      "The element: Pm from formula PmMgAu2 is not currently supported in our database\n",
      "The element: Pm from formula PmMgCd2 is not currently supported in our database\n",
      "The element: Pm from formula PmMgRh2 is not currently supported in our database\n",
      "The element: Pm from formula PmSbRh2 is not currently supported in our database\n",
      "The element: Pm from formula PmSnRh2 is not currently supported in our database\n",
      "The element: Xe from formula Sb2XeF14 is not currently supported in our database\n",
      "The element: Eu from formula Sr3EuP3O12 is not currently supported in our database\n",
      "The element: Pm from formula YbPmPt2 is not currently supported in our database\n"
     ]
    }
   ],
   "source": [
    "# now that we have a better representation of the data, lets generate features\n",
    "X, y, formula = composition.generate_features(df_band_gap)"
   ]
  },
  {
   "cell_type": "code",
   "execution_count": 6,
   "metadata": {},
   "outputs": [
    {
     "data": {
      "text/plain": [
       "([<matplotlib.axis.XTick at 0x1ddd81ab4a8>,\n",
       "  <matplotlib.axis.XTick at 0x1ddd81abb70>],\n",
       " <a list of 2 Text xticklabel objects>)"
      ]
     },
     "execution_count": 6,
     "metadata": {},
     "output_type": "execute_result"
    },
    {
     "data": {
      "image/png": "[encoded data removed]",
      "text/plain": [
       "<matplotlib.figure.Figure at 0x1ddd69bbbe0>"
      ]
     },
     "metadata": {},
     "output_type": "display_data"
    }
   ],
   "source": [
    "df_band_gap['target'].hist(bins=30)\n",
    "plt.xlabel('label')\n",
    "plt.ylabel('# of instances')\n",
    "plt.xticks((0, 1))"
   ]
  },
  {
   "cell_type": "code",
   "execution_count": 7,
   "metadata": {},
   "outputs": [],
   "source": [
    "X_train, X_test, y_train, y_test = train_test_split(X, y, test_size=0.25, random_state=42)"
   ]
  },
  {
   "cell_type": "code",
   "execution_count": 8,
   "metadata": {},
   "outputs": [],
   "source": [
    "# we now want to process our data. We are going to use the SVR algorithm.\n",
    "# This algorithm is based on gradient descent and needs similar feature scales.\n",
    "\n",
    "# scale each column of data to have a mean of 0 and a variance of 1\n",
    "scaler = StandardScaler()\n",
    "# normalizes each row in the data\n",
    "normalizer = Normalizer()\n",
    "\n",
    "X_train_scaled = scaler.fit_transform(X_train)\n",
    "X_train_scaled = pd.DataFrame(normalizer.fit_transform(X_train_scaled),\n",
    "                              columns=X_train.columns.values)\n",
    "X_test_scaled = scaler.transform(X_test)\n",
    "X_test_scaled = pd.DataFrame(normalizer.transform(X_test_scaled),\n",
    "                              columns=X_test.columns.values)"
   ]
  },
  {
   "cell_type": "code",
   "execution_count": 14,
   "metadata": {},
   "outputs": [],
   "source": [
    "lr = LogisticRegression(penalty='l2', C=1e5, class_weight={0:1, 1:1} ,max_iter=100, tol=1e-2)"
   ]
  },
  {
   "cell_type": "code",
   "execution_count": 15,
   "metadata": {},
   "outputs": [],
   "source": [
    "cv = KFold(n_splits=5, shuffle=True, random_state=1)\n",
    "y_pred_train = cross_val_predict(lr, X_train_scaled, y_train, cv=cv)"
   ]
  },
  {
   "cell_type": "code",
   "execution_count": 16,
   "metadata": {},
   "outputs": [],
   "source": [
    "y_prob_both_train = cross_val_predict(lr, X_train_scaled, y_train, cv=cv, method='predict_proba')"
   ]
  },
  {
   "cell_type": "code",
   "execution_count": 17,
   "metadata": {},
   "outputs": [],
   "source": [
    "y_probability_train = [probability[1] for probability in y_prob_both_train]"
   ]
  },
  {
   "cell_type": "code",
   "execution_count": 18,
   "metadata": {},
   "outputs": [
    {
     "data": {
      "image/png": "[encoded data removed]",
      "text/plain": [
       "<matplotlib.figure.Figure at 0x1ddd69a1b38>"
      ]
     },
     "metadata": {},
     "output_type": "display_data"
    },
    {
     "name": "stdout",
     "output_type": "stream",
     "text": [
      "precision: 88.88, recall: 90.10\n",
      "f-score: 89.49\n"
     ]
    }
   ],
   "source": [
    "utils.get_performance_metrics(y_train, y_pred_train, y_probability_train)"
   ]
  },
  {
   "cell_type": "code",
   "execution_count": null,
   "metadata": {},
   "outputs": [],
   "source": []
  }
 ],
 "metadata": {
  "kernelspec": {
   "display_name": "Python 3",
   "language": "python",
   "name": "python3"
  },
  "language_info": {
   "codemirror_mode": {
    "name": "ipython",
    "version": 3
   },
   "file_extension": ".py",
   "mimetype": "text/x-python",
   "name": "python",
   "nbconvert_exporter": "python",
   "pygments_lexer": "ipython3",
   "version": "3.6.5"
  }
 },
 "nbformat": 4,
 "nbformat_minor": 2
}
