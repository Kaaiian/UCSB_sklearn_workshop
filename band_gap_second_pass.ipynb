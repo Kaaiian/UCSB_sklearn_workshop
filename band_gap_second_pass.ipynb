{
 "cells": [
  {
   "cell_type": "markdown",
   "metadata": {},
   "source": [
    "# Perform a more intellegent on 'Zhou et al. Band gap data'\n",
    "\n",
    "## Import the libraries we will be using"
   ]
  },
  {
   "cell_type": "code",
   "execution_count": 1,
   "metadata": {
    "collapsed": true
   },
   "outputs": [],
   "source": [
    "# read in data with pandas\n",
    "import pandas as pd\n",
    "# use numpy for vector and matrix operations\n",
    "import numpy as np\n",
    "\n",
    "# composition is a custom made python file that generates composition-based feature vectors (CBFV)\n",
    "import composition\n",
    "# utils is a custom made python file that has some useful functions\n",
    "import utils\n",
    "\n",
    "# make nice figures\n",
    "import matplotlib.pyplot as plt\n",
    "# machine learnign algorithms\n",
    "from sklearn.linear_model import LinearRegression\n",
    "from sklearn.ensemble import RandomForestRegressor\n",
    "# preprocessing for the features\n",
    "from sklearn.preprocessing import StandardScaler, Normalizer\n",
    "# feature reduction\n",
    "from sklearn.decomposition import PCA\n",
    "# import model selection tools\n",
    "from sklearn.model_selection import cross_validate, cross_val_score,\\\n",
    "                                    cross_val_predict, learning_curve, \\\n",
    "                                    GridSearchCV, KFold\n",
    "# grab metrics to evaluate our models\n",
    "from sklearn.metrics import confusion_matrix, classification_report,\\\n",
    "                            r2_score, mean_squared_error"
   ]
  },
  {
   "cell_type": "code",
   "execution_count": 2,
   "metadata": {
    "collapsed": true
   },
   "outputs": [],
   "source": [
    "# read in band gap data from Zhou et al. publication:\n",
    "# J. Phys. Chem. Lett., 2018, 9 (7), pp 1668–1673\n",
    "#DOI: 10.1021/acs.jpclett.8b00124\n",
    "#Publication Date (Web): March 13, 2018\n",
    "df_band_gap = pd.read_excel('band_gap_data/jz8b00124_si_002.xlsx')\n",
    "\n",
    "# excel sheet is edited to fix formula \"GaAs0.1P0.9G1128\" to \"GaAs0.1P0.9\"\n",
    "df_band_gap.replace(\"GaAs0.1P0.9G1128\", \"GaAs0.1P0.9\", inplace=True)"
   ]
  },
  {
   "cell_type": "code",
   "execution_count": 21,
   "metadata": {},
   "outputs": [
    {
     "data": {
      "text/plain": [
       "CdS                         22\n",
       "CdSe                        20\n",
       "ZnS                         18\n",
       "GaSe                        18\n",
       "GaAs                        16\n",
       "InSb                        15\n",
       "ZnO                         15\n",
       "As2S3                       14\n",
       "TlBr                        14\n",
       "GaSb                        14\n",
       "CdSb                        14\n",
       "InP                         14\n",
       "PbTe                        13\n",
       "ZnSe                        13\n",
       "AlSb                        12\n",
       "CuCl                        12\n",
       "InAs                        12\n",
       "ZnTe                        12\n",
       "InSe                        12\n",
       "PbS                         12\n",
       "Ag3SbS3                     11\n",
       "PbSe                        11\n",
       "Mg2Sn                       11\n",
       "AlP                         11\n",
       "CdTe                        11\n",
       "TlSe                        10\n",
       "GaTe                        10\n",
       "GaS                         10\n",
       "CdGeAs2                      9\n",
       "GeS                          9\n",
       "                            ..\n",
       "Na2SO4                       1\n",
       "Hf2Hg                        1\n",
       "Co3Se4                       1\n",
       "CuNbO3                       1\n",
       "KF                           1\n",
       "BaGa4S7                      1\n",
       "Cd0.99Te0.99Al0.01Sb0.01     1\n",
       "PmCd3                        1\n",
       "Li2Ni3TeO8,186               1\n",
       "TmFe2Si2                     1\n",
       "Nd2Ge5Rh3                    1\n",
       "Cr2S3                        1\n",
       "La2ZrS5                      1\n",
       "Bi2Pt                        1\n",
       "Hg0.01Cd0.99Se               1\n",
       "MnSiNi2                      1\n",
       "Nd2CdIn                      1\n",
       "GdZn                         1\n",
       "Tm2MgRu                      1\n",
       "Ba6Ga2SnSe11                 1\n",
       "Tb3Mn2C6                     1\n",
       "CdCuSe2O6                    1\n",
       "V2NO                         1\n",
       "Li2MgIn                      1\n",
       "Li3ScN2                      1\n",
       "FeI2                         1\n",
       "KPSe6                        1\n",
       "LiGaPd2                      1\n",
       "La2Fe2I                      1\n",
       "CrIrO6                       1\n",
       "Name: formula, Length: 3778, dtype: int64"
      ]
     },
     "execution_count": 21,
     "metadata": {},
     "output_type": "execute_result"
    }
   ],
   "source": [
    "df_train['formula'].value_counts()"
   ]
  },
  {
   "cell_type": "code",
   "execution_count": 3,
   "metadata": {},
   "outputs": [
    {
     "data": {
      "text/plain": [
       "(6354, 2)"
      ]
     },
     "execution_count": 3,
     "metadata": {},
     "output_type": "execute_result"
    }
   ],
   "source": [
    "## take the average of duplicate composition entries\n",
    "df_band_gap = df_band_gap.groupby('formula').mean().reset_index()\n",
    "\n",
    "df_band_gap.shape"
   ]
  },
  {
   "cell_type": "code",
   "execution_count": 17,
   "metadata": {},
   "outputs": [],
   "source": [
    "# split the data into a training and test set\n",
    "df_train = df_band_gap.sample(frac=0.75, random_state=1)\n",
    "df_test = df_band_gap[~df_band_gap.index.isin(list(df_train.index.values))].sample(frac=1, random_state=1)"
   ]
  },
  {
   "cell_type": "code",
   "execution_count": 18,
   "metadata": {},
   "outputs": [],
   "source": [
    "# rename columns for use with feature generation\n",
    "df_train.columns = ['formula', 'target']\n",
    "df_test.columns = ['formula', 'target']"
   ]
  },
  {
   "cell_type": "code",
   "execution_count": 19,
   "metadata": {},
   "outputs": [
    {
     "data": {
      "text/plain": [
       "Text(0, 0.5, '# of instances')"
      ]
     },
     "execution_count": 19,
     "metadata": {},
     "output_type": "execute_result"
    },
    {
     "data": {
      "image/png": "[encoded data removed]",
      "text/plain": [
       "<Figure size 432x288 with 1 Axes>"
      ]
     },
     "metadata": {},
     "output_type": "display_data"
    }
   ],
   "source": [
    "df_train.hist(bins=30)\n",
    "plt.xlabel('band gap (eV)')\n",
    "plt.ylabel('# of instances')"
   ]
  },
  {
   "cell_type": "code",
   "execution_count": 20,
   "metadata": {},
   "outputs": [
    {
     "data": {
      "text/plain": [
       "Text(0, 0.5, '# of instances')"
      ]
     },
     "execution_count": 20,
     "metadata": {},
     "output_type": "execute_result"
    },
    {
     "data": {
      "image/png": "[encoded data removed]",
      "text/plain": [
       "<Figure size 432x288 with 1 Axes>"
      ]
     },
     "metadata": {},
     "output_type": "display_data"
    }
   ],
   "source": [
    "df_test.hist(bins=30)\n",
    "plt.xlabel('band gap (eV)')\n",
    "plt.ylabel('# of instances')"
   ]
  },
  {
   "cell_type": "markdown",
   "metadata": {},
   "source": [
    "**Upon closer inspection of the data, we now see there are two issues we need to address with our data**\n",
    "\n",
    "1. The data contain duplicate formulae entries. \n",
    "    - *This means that the same formula could end up in both training, validation and test sets. This will give us an overly optimisitc model.*\n",
    "2. The data we are trying to learn contain metals & non-metals. \n",
    "    - *This has the effect of giving us very imbalanced data.*\n",
    "\n",
    "\n",
    "To correct for these two issues we will\n",
    "1. take the average band gap for duplicate composition entries\n",
    "2. separate remove the metal band gaps from our regression\n"
   ]
  },
  {
   "cell_type": "code",
   "execution_count": 10,
   "metadata": {
    "collapsed": true
   },
   "outputs": [
    {
     "name": "stdout",
     "output_type": "stream",
     "text": [
      "train size before removing duplicates & metals: (4766, 2)\n",
      "test size before removing duplicates & metals: (1588, 2)\n",
      "train size after removing duplicates & metals: (1946, 2)\n",
      "test size after removing duplicates & metals: (774, 2)\n"
     ]
    }
   ],
   "source": [
    "print('train size before removing metals:', df_train.shape)\n",
    "print('test size before removing metals:', df_test.shape)\n",
    "\n",
    "## separate the metal and non-metal compounds\n",
    "df_train = df_train[df_train['target'] > 0]\n",
    "df_test = df_test[df_test['target'] > 0]\n",
    "\n",
    "print('train size after removing metals:', df_train.shape)\n",
    "print('test size after removing metals:', df_test.shape)"
   ]
  },
  {
   "cell_type": "code",
   "execution_count": 11,
   "metadata": {
    "collapsed": true
   },
   "outputs": [
    {
     "data": {
      "text/plain": [
       "Text(0, 0.5, '# of instances')"
      ]
     },
     "execution_count": 11,
     "metadata": {},
     "output_type": "execute_result"
    },
    {
     "data": {
      "image/png": "[encoded data removed]",
      "text/plain": [
       "<Figure size 432x288 with 1 Axes>"
      ]
     },
     "metadata": {},
     "output_type": "display_data"
    }
   ],
   "source": [
    "df_train.hist(bins=30)\n",
    "plt.xlabel('band gap (eV)')\n",
    "plt.ylabel('# of instances')"
   ]
  },
  {
   "cell_type": "code",
   "execution_count": 12,
   "metadata": {
    "collapsed": true
   },
   "outputs": [
    {
     "data": {
      "text/plain": [
       "Text(0, 0.5, '# of instances')"
      ]
     },
     "execution_count": 12,
     "metadata": {},
     "output_type": "execute_result"
    },
    {
     "data": {
      "image/png": "[encoded data removed]",
      "text/plain": [
       "<Figure size 432x288 with 1 Axes>"
      ]
     },
     "metadata": {},
     "output_type": "display_data"
    }
   ],
   "source": [
    "df_test.hist(bins=30)\n",
    "plt.xlabel('band gap (eV)')\n",
    "plt.ylabel('# of instances')"
   ]
  },
  {
   "cell_type": "code",
   "execution_count": 13,
   "metadata": {
    "collapsed": true
   },
   "outputs": [
    {
     "name": "stdout",
     "output_type": "stream",
     "text": [
      "The element: Eu from formula Ba3EuP3O12 is not currently supported in our database\n",
      "The element: Eu from formula Eu1.83Ta15O32 is not currently supported in our database\n",
      "The element: Eu from formula Eu2Ga2GeS7 is not currently supported in our database\n",
      "The element: Eu from formula Eu2O3 is not currently supported in our database\n",
      "The element: Eu from formula Eu2Se3 is not currently supported in our database\n",
      "The element: Eu from formula Eu2SnSe5 is not currently supported in our database\n",
      "The element: Eu from formula Eu3In2P4 is not currently supported in our database\n",
      "The element: Eu from formula Eu3P2 is not currently supported in our database\n",
      "The element: Eu from formula Eu3S4 is not currently supported in our database\n",
      "The element: Eu from formula Eu3Sb4Se9 is not currently supported in our database\n",
      "The element: Eu from formula Eu3Se4 is not currently supported in our database\n",
      "The element: Eu from formula Eu4Te7 is not currently supported in our database\n",
      "The element: Eu from formula Eu7Ga6Sb8 is not currently supported in our database\n",
      "The element: Eu from formula EuBi2Se4 is not currently supported in our database\n",
      "The element: Eu from formula EuBi2Te4 is not currently supported in our database\n",
      "The element: Eu from formula EuBiW2O9 is not currently supported in our database\n",
      "The element: Eu from formula EuCu2SnS4 is not currently supported in our database\n",
      "The element: Eu from formula EuDy2Se4 is not currently supported in our database\n",
      "The element: Eu from formula EuGa2S4 is not currently supported in our database\n",
      "The element: Eu from formula EuGa2Se4 is not currently supported in our database\n",
      "The element: Eu from formula EuGa2Te4 is not currently supported in our database\n",
      "The element: Eu from formula EuH2 is not currently supported in our database\n",
      "The element: Eu from formula EuIn2S4 is not currently supported in our database\n",
      "The element: Eu from formula EuIn2Te4 is not currently supported in our database\n",
      "The element: Eu from formula EuIr4In2Ge4 is not currently supported in our database\n",
      "The element: Eu from formula EuLiH3 is not currently supported in our database\n",
      "The element: Eu from formula EuLu2Se4 is not currently supported in our database\n",
      "The element: Eu from formula EuN is not currently supported in our database\n",
      "The element: Eu from formula EuO is not currently supported in our database\n",
      "The element: Eu from formula EuS is not currently supported in our database\n",
      "The element: Eu from formula EuSb2S4 is not currently supported in our database\n",
      "The element: Eu from formula EuSb2Se4 is not currently supported in our database\n",
      "The element: Eu from formula EuSb4S7 is not currently supported in our database\n",
      "The element: Eu from formula EuSb4Te7 is not currently supported in our database\n",
      "The element: Eu from formula EuSe is not currently supported in our database\n",
      "The element: Eu from formula EuSnTe2 is not currently supported in our database\n",
      "The element: Eu from formula EuTb2Se4 is not currently supported in our database\n",
      "The element: Eu from formula EuTe is not currently supported in our database\n",
      "The element: Eu from formula EuVO4 is not currently supported in our database\n",
      "The element: Eu from formula EuYb2S4 is not currently supported in our database\n",
      "The element: Eu from formula KEuAsS4 is not currently supported in our database\n",
      "The element: Eu from formula Na0.75Eu1.625GeSe4 is not currently supported in our database\n",
      "The element: Eu from formula Na2EuGeSe4 is not currently supported in our database\n",
      "The element: Eu from formula Na8Eu2Ge4S12 is not currently supported in our database\n",
      "The element: Eu from formula Sr3EuP3O12 is not currently supported in our database\n",
      "The element: Eu from formula Ag0.5Eu1.75GeS4 is not currently supported in our database\n",
      "The element: Eu from formula Eu3As2 is not currently supported in our database\n",
      "The element: Eu from formula Eu3Bi4S9 is not currently supported in our database\n",
      "The element: Eu from formula Eu3Sb4S9 is not currently supported in our database\n",
      "The element: Eu from formula EuAl2O4 is not currently supported in our database\n",
      "The element: Eu from formula EuEr2Se4 is not currently supported in our database\n",
      "The element: Eu from formula EuHo2Se4 is not currently supported in our database\n",
      "The element: Eu from formula EuIn2Se4 is not currently supported in our database\n",
      "The element: Eu from formula EuO is not currently supported in our database\n",
      "The element: Eu from formula EuS is not currently supported in our database\n",
      "The element: Eu from formula EuSb2BO8 is not currently supported in our database\n",
      "The element: Eu from formula EuTe is not currently supported in our database\n",
      "The element: Eu from formula EuTm2Se4 is not currently supported in our database\n",
      "The element: Eu from formula EuYb2Se4 is not currently supported in our database\n"
     ]
    }
   ],
   "source": [
    "X_train, y_train, formula_train = composition.generate_features(df_train)\n",
    "X_test, y_test, formula_test = composition.generate_features(df_test)"
   ]
  },
  {
   "cell_type": "code",
   "execution_count": null,
   "metadata": {
    "collapsed": true
   },
   "outputs": [],
   "source": [
    "# Initialize a \"LinearRegression\" object. This will allow us to do a simple linear regression on the data\n",
    "lr = LinearRegression()\n",
    "cv = KFold(n_splits=5, shuffle=True, random_state=1)\n",
    "y_pred_train = cross_val_predict(lr, X_train, y_train, cv=cv)\n",
    "print('R2 score =', r2_score(y_train, y_pred_train))\n",
    "utils.plot_act_vs_pred(y_train, y_pred_train)"
   ]
  },
  {
   "cell_type": "code",
   "execution_count": null,
   "metadata": {
    "collapsed": true
   },
   "outputs": [],
   "source": [
    "title = \"linear regresion learning curve\"\n",
    "utils.plot_learning_curve(lr, title, X_train, y_train, ylim=(0.0, 1.01), cv=5, n_jobs=-1)"
   ]
  },
  {
   "cell_type": "code",
   "execution_count": null,
   "metadata": {
    "collapsed": true
   },
   "outputs": [],
   "source": [
    "# we now want to process our data. We are going to use the SVR algorithm.\n",
    "# This algorithm is based on gradient descent and needs similar feature scales.\n",
    "\n",
    "# scale each column of data to have a mean of 0 and a variance of 1\n",
    "scaler = StandardScaler()\n",
    "# normalizes each row in the data\n",
    "normalizer = Normalizer()\n",
    "\n",
    "X_train_scaled = scaler.fit_transform(X_train)\n",
    "X_train_scaled = pd.DataFrame(normalizer.fit_transform(X_train_scaled),\n",
    "                              columns=X_train.columns.values)\n",
    "X_test_scaled = scaler.transform(X_test)\n",
    "X_test_scaled = pd.DataFrame(normalizer.transform(X_test_scaled),\n",
    "                              columns=X_test.columns.values)"
   ]
  },
  {
   "cell_type": "code",
   "execution_count": null,
   "metadata": {
    "collapsed": true
   },
   "outputs": [],
   "source": [
    "# Initialize a \"LinearRegression\" object. This will allow us to do a simple linear regression on the data\n",
    "lr = LinearRegression()\n",
    "cv = KFold(n_splits=5, shuffle=True, random_state=1)\n",
    "y_pred_train = cross_val_predict(lr, X_train_scaled, y_train, cv=cv)\n",
    "print('R2 score =', r2_score(y_train, y_pred_train))\n",
    "utils.plot_act_vs_pred(y_train, y_pred_train)"
   ]
  },
  {
   "cell_type": "code",
   "execution_count": null,
   "metadata": {
    "collapsed": true
   },
   "outputs": [],
   "source": [
    "# We will want to reduce our feature space to make learning easier\n",
    "pca = PCA(n_components=30)\n",
    "X_train_pca = pd.DataFrame(pca.fit_transform(X_train_scaled))\n",
    "X_test_pca = pd.DataFrame(pca.transform(X_test_scaled))"
   ]
  },
  {
   "cell_type": "code",
   "execution_count": null,
   "metadata": {
    "collapsed": true
   },
   "outputs": [],
   "source": [
    "X_train_pca.head()\n",
    "X_test_pca.head()"
   ]
  },
  {
   "cell_type": "code",
   "execution_count": null,
   "metadata": {
    "collapsed": true
   },
   "outputs": [],
   "source": [
    "# Initialize a \"LinearRegression\" object. This will allow us to do a simple linear regression on the data\n",
    "lr = LinearRegression()\n",
    "cv = KFold(n_splits=5, shuffle=True, random_state=1)\n",
    "y_pred_train = cross_val_predict(lr, X_train_pca, y_train, cv=cv)\n",
    "print('R2 score =', r2_score(y_train, y_pred_train))\n",
    "utils.plot_act_vs_pred(y_train, y_pred_train)"
   ]
  },
  {
   "cell_type": "code",
   "execution_count": null,
   "metadata": {
    "collapsed": true
   },
   "outputs": [],
   "source": [
    "title = \"linear regresion learning curve\"\n",
    "utils.plot_learning_curve(lr, title, X_train_pca, y_train, ylim=(0.0, 1.01), cv=5, n_jobs=-1)"
   ]
  },
  {
   "cell_type": "markdown",
   "metadata": {},
   "source": [
    "## Moving to a random forest\n",
    "**Some of the problems associated with using a linear regression include:**\n",
    "1. limited model capacity\n",
    "2. overfitting due to high feature dimensionality\n",
    "3. unstable model results (high variance in cv performance)\n",
    "\n",
    "The **random forest** algorithm leads to increased model capacity (can learn non-linear relationsihips), has built in feature selection, and is generally considered as a robust algorithm. This should help some of the problems we saw with the random forest regression."
   ]
  },
  {
   "cell_type": "code",
   "execution_count": null,
   "metadata": {
    "collapsed": true
   },
   "outputs": [],
   "source": [
    "# Initialize a \"RandomForestRegressor\" object. This will allow us to do a simple linear regression on the data\n",
    "rf = RandomForestRegressor()\n",
    "cv = KFold(n_splits=5, shuffle=True, random_state=1)\n",
    "y_pred_train = cross_val_predict(rf, X_train, y_train, cv=cv)\n",
    "print('R2 score =', r2_score(y_train, y_pred_train))\n",
    "utils.plot_act_vs_pred(y_train, y_pred_train)"
   ]
  },
  {
   "cell_type": "code",
   "execution_count": null,
   "metadata": {
    "collapsed": true
   },
   "outputs": [],
   "source": [
    "title = \"random forest learning curve\"\n",
    "utils.plot_learning_curve(rf, title, X_train, y_train, ylim=(0.0, 1.01), cv=5, n_jobs=-1)"
   ]
  },
  {
   "cell_type": "code",
   "execution_count": null,
   "metadata": {
    "collapsed": true
   },
   "outputs": [],
   "source": [
    "# Initialize a \"RandomForestRegressor\" object. This will allow us to do a simple linear regression on the data\n",
    "rf = RandomForestRegressor()\n",
    "cv = KFold(n_splits=5, shuffle=True, random_state=1)\n",
    "y_pred_train = cross_val_predict(rf, X_train_scaled, y_train, cv=cv)\n",
    "print('R2 score =', r2_score(y_train, y_pred_train))\n",
    "utils.plot_act_vs_pred(y_train, y_pred_train)"
   ]
  },
  {
   "cell_type": "code",
   "execution_count": null,
   "metadata": {
    "collapsed": true
   },
   "outputs": [],
   "source": [
    "title = \"random forest learning curve\"\n",
    "utils.plot_learning_curve(rf, title, X_train_scaled, y_train, ylim=(0.0, 1.01), cv=5, n_jobs=-1)"
   ]
  },
  {
   "cell_type": "code",
   "execution_count": null,
   "metadata": {
    "collapsed": true
   },
   "outputs": [],
   "source": [
    "# Initialize a \"RandomForestRegrssion\" object. This will allow us to do a simple linear regression on the data\n",
    "rf = RandomForestRegressor()\n",
    "cv = KFold(n_splits=5, shuffle=True, random_state=1)\n",
    "y_pred_train = cross_val_predict(rf, X_train_pca, y_train, cv=cv)\n",
    "print('R2 score =', r2_score(y_train, y_pred_train))\n",
    "utils.plot_act_vs_pred(y_train, y_pred_train)"
   ]
  },
  {
   "cell_type": "code",
   "execution_count": null,
   "metadata": {
    "collapsed": true
   },
   "outputs": [],
   "source": [
    "title = \"random forest learning curve\"\n",
    "utils.plot_learning_curve(rf, title, X_train_pca, y_train, ylim=(0.0, 1.01), cv=5, n_jobs=-1)"
   ]
  },
  {
   "cell_type": "markdown",
   "metadata": {},
   "source": [
    "## Set up a grid search to begin optimization of the random forest regression\n",
    "\n",
    "We can see that the random forest algorithm is much more powerful in this dataset. Lets see if we can tweek the models hyperparameters to help improve our prediction capability"
   ]
  },
  {
   "cell_type": "code",
   "execution_count": 16,
   "metadata": {},
   "outputs": [],
   "source": [
    "def grid_search(X, y, model, parameter_candidates, n_cv=3, title='Grid search results'):\n",
    "    grid = GridSearchCV(estimator=model,\n",
    "                        param_grid=parameter_candidates,\n",
    "                        cv=n_cv,\n",
    "                        n_jobs=4)\n",
    "    grid.fit(X, y)\n",
    "    return grid\n",
    "\n",
    "rf = RandomForestRegressor(max_features='sqrt')\n",
    "n_estimators_array = np.linspace(10, 50, 10).astype(int)\n",
    "max_depth_array = np.linspace(1, 25, 10).astype(int)\n",
    "parameter_candidates = {'n_estimators': n_estimators_array, 'max_depth': max_depth_array}\n",
    "\n",
    "grid = grid_search(X_train, y_train, rf, parameter_candidates, n_cv=3, title='Grid search results')"
   ]
  },
  {
   "cell_type": "code",
   "execution_count": null,
   "metadata": {
    "collapsed": true
   },
   "outputs": [],
   "source": []
  }
 ],
 "metadata": {
  "kernelspec": {
   "display_name": "Python 3",
   "language": "python",
   "name": "python3"
  },
  "language_info": {
   "codemirror_mode": {
    "name": "ipython",
    "version": 3
   },
   "file_extension": ".py",
   "mimetype": "text/x-python",
   "name": "python",
   "nbconvert_exporter": "python",
   "pygments_lexer": "ipython3",
   "version": "3.6.5"
  }
 },
 "nbformat": 4,
 "nbformat_minor": 2
}
